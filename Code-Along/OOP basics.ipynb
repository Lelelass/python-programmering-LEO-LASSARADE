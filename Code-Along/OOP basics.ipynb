{
 "cells": [
  {
   "cell_type": "code",
   "execution_count": 1,
   "source": [
    "class Antagning:\n",
    "    def __init__(self):\n",
    "        pass\n",
    "\n",
    "a1 = Antagning()\n",
    "print(a1)"
   ],
   "outputs": [
    {
     "output_type": "stream",
     "name": "stdout",
     "text": [
      "<__main__.Antagning object at 0x7fd0a9424e50>\n"
     ]
    }
   ],
   "metadata": {}
  },
  {
   "cell_type": "code",
   "execution_count": 2,
   "source": [
    "class Antagning:\n",
    "    def __init__(self,school,program,name,accept = False) -> None:\n",
    "        self.school = school\n",
    "        self.program = program\n",
    "        self.name = name\n",
    "        self.accept = accept\n",
    "\n",
    "    def __repr__(self):\n",
    "        return f\"Antagning (school = {self.school}, program = {self.program}, name = {self.name}, accept = {self.accept}) \"\n",
    "\n",
    "person1 = Antagning(\"Cool school\", \"AI\", \"Game board\")\n",
    "\n",
    "print(person1)\n",
    "\n"
   ],
   "outputs": [
    {
     "output_type": "stream",
     "name": "stdout",
     "text": [
      "Antagning (school = Cool school, program = AI, name = Game board, accept = False) \n"
     ]
    }
   ],
   "metadata": {}
  },
  {
   "cell_type": "markdown",
   "source": [
    "## Exempel old coins in Sweden\n",
    "riksdaler och skilling"
   ],
   "metadata": {}
  },
  {
   "cell_type": "code",
   "execution_count": 3,
   "source": [
    "class OldCoinStash:\n",
    "    def __init__(self, owner) -> None:\n",
    "        self.owner = owner\n",
    "        self.riksdaler = 0\n",
    "        self.skilling = 0\n",
    "\n",
    "stash1 = OldCoinStash(\"Gore Bord\")\n",
    "stash1.riksdaler = 1000\n",
    "print(stash1.riksdaler)"
   ],
   "outputs": [
    {
     "output_type": "stream",
     "name": "stdout",
     "text": [
      "1000\n"
     ]
    }
   ],
   "metadata": {}
  },
  {
   "cell_type": "markdown",
   "source": [
    "## Encapsulation"
   ],
   "metadata": {}
  },
  {
   "cell_type": "code",
   "execution_count": 11,
   "source": [
    "class OldCoinStash:\n",
    "    def __init__(self, owner: str) -> None:\n",
    "        self.owner = owner\n",
    "\n",
    "        self._riksdaler = 0\n",
    "        self._skilling = 0\n",
    "\n",
    "    def deposit(self, riksdaler: float, skilling: float):\n",
    "        if riksdaler < 0 or skilling < 0:\n",
    "            raise ValueError (f\"Stop depositing negative values. {riksdaler} or {skilling} not okay\")\n",
    "        \n",
    "        self._riksdaler += riksdaler\n",
    "        self._skilling += skilling\n",
    "\n",
    "    def withdrawal(self, riksdaler: float, skilling: float):\n",
    "        if riksdaler > self._riksdaler or skilling > self._skilling:\n",
    "            raise ValueError (f\"You can't withdraw more than you have\")\n",
    "        self._riksdaler -= riksdaler\n",
    "        self._skilling -= skilling\n",
    "\n",
    "    def check_balance(self):\n",
    "        return f\"Coins in stash = {self._riksdaler} riksdaler and {self._skilling} skillingar\"\n",
    "\n",
    "    def __repr__(self) -> str:\n",
    "        return f\"OldCoinStash(owner = {self.owner})\"\n",
    "\n",
    "stash1 = OldCoinStash(\"Gore bord\")\n",
    "print(stash1)\n",
    "print(stash1.check_balance())\n",
    "stash1.deposit(riksdaler = 500, skilling = 3000)\n",
    "print(stash1.check_balance())\n",
    "\n",
    "try:\n",
    "    stash1.deposit(-20,35)\n",
    "except ValueError as err:\n",
    "    print(err)\n",
    "\n",
    "\n",
    "print(stash1.withdrawal(100,100))\n",
    "print(stash1.check_balance())\n",
    "\n",
    "try:\n",
    "    stash1.withdrawal(100000,3500000)\n",
    "except ValueError as err:\n",
    "    print(err)\n",
    "\n"
   ],
   "outputs": [
    {
     "output_type": "stream",
     "name": "stdout",
     "text": [
      "OldCoinStash(owner = Gore bord)\n",
      "Coins in stash = 0 riksdaler and 0 skillingar\n",
      "Coins in stash = 500 riksdaler and 3000 skillingar\n",
      "Stop depositing negative values. -20 or 35 not okay\n",
      "None\n",
      "Coins in stash = 400 riksdaler and 2900 skillingar\n",
      "You can't withdraw more than you have\n",
      "Coins in stash = 400 riksdaler and 2900 skillingar\n"
     ]
    }
   ],
   "metadata": {}
  },
  {
   "cell_type": "markdown",
   "source": [
    "## Properties"
   ],
   "metadata": {}
  },
  {
   "cell_type": "code",
   "execution_count": 13,
   "source": [
    "class Student:\n",
    "    def __init__(self, name: str, age: float) -> None:\n",
    "        self.name = name\n",
    "        self.age = age\n",
    "\n",
    "    @property\n",
    "    def age(self) -> float:\n",
    "        print(\"age getter is running...\")\n",
    "        return self._age\n",
    "\n",
    "    @age.setter\n",
    "    def age(self, value: float)-> None:\n",
    "        if not isinstance(value, (int, float)):\n",
    "            raise TypeError(f\"Age must be an int or a float, not {type(value)}\") \n",
    "        \n",
    "        if not (0 <= value <= 125):\n",
    "            raise ValueError(\"Your age must be between 0 and 125\")\n",
    "        \n",
    "        self._age = value\n",
    "\n",
    "student1 = Student(\"Gore bord\", 25)\n",
    "print(student1.age)\n",
    "\n",
    "try:\n",
    "    student1.age = \"25\"\n",
    "except:\n",
    "    raise TypeError(\"bad type\")"
   ],
   "outputs": [
    {
     "output_type": "stream",
     "name": "stdout",
     "text": [
      "age getter is running...\n",
      "25\n"
     ]
    }
   ],
   "metadata": {}
  }
 ],
 "metadata": {
  "orig_nbformat": 4,
  "language_info": {
   "name": "python",
   "version": "3.9.6",
   "mimetype": "text/x-python",
   "codemirror_mode": {
    "name": "ipython",
    "version": 3
   },
   "pygments_lexer": "ipython3",
   "nbconvert_exporter": "python",
   "file_extension": ".py"
  },
  "kernelspec": {
   "name": "python3",
   "display_name": "Python 3.9.6 64-bit ('python-programmering-LEO-LASSARADE-1ztIdyV-': pipenv)"
  },
  "interpreter": {
   "hash": "bad5ac8d432cba18cf0c9b835ccf1a1a0c1156fd2912ff352f1e5c7ada150402"
  }
 },
 "nbformat": 4,
 "nbformat_minor": 2
}
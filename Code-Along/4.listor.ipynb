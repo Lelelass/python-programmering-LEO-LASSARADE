{
 "cells": [
  {
   "cell_type": "markdown",
   "source": [
    "# Listövningar\n",
    "\n",
    "Man komma åt slutet av en lista med index [-1], det går att använda inverted index i Pyhton.\n",
    "Slicing operators sista värde är exklusiv.\n",
    "\n"
   ],
   "metadata": {}
  },
  {
   "cell_type": "code",
   "execution_count": 8,
   "source": [
    "tv_shows = [\"Antikrundan\", \"Mästerkockarna\",\"Aktuellt\",\"Talang\"]\n",
    "\n",
    "# Access items - [] operator\n",
    "tv_shows[-1]\n",
    "\n",
    "#slicing operator - : operator\n",
    "print(f\"tv_shows[1:3] : {tv_shows[1:3]}\")\n",
    "print(f\"tv_shows[::-1] : {tv_shows[::-1]}\")# omvänt slicing\n"
   ],
   "outputs": [
    {
     "output_type": "stream",
     "name": "stdout",
     "text": [
      "tv_shows[1:3] : ['Mästerkockarna', 'Aktuellt']\n",
      "tv_shows[::-1] : ['Talang', 'Aktuellt', 'Mästerkockarna', 'Antikrundan']\n"
     ]
    }
   ],
   "metadata": {}
  },
  {
   "cell_type": "code",
   "execution_count": 9,
   "source": [
    "#Change list items\n",
    "tv_shows = [\"Antikrundan\", \"Mästerkockarna\",\"Aktuellt\",\"Talang\"]\n",
    "tv_shows[0] = \"Vetenskapens värld\"\n",
    "\n",
    "print(tv_shows)\n",
    "\n",
    "# Det går att lägga till \n",
    "tv_shows.append(\"go kväll\")"
   ],
   "outputs": [
    {
     "output_type": "stream",
     "name": "stdout",
     "text": [
      "['Vetenskapens värld', 'Mästerkockarna', 'Aktuellt', 'Talang']\n"
     ]
    }
   ],
   "metadata": {}
  },
  {
   "cell_type": "markdown",
   "source": [
    "## Iterate through lists"
   ],
   "metadata": {}
  },
  {
   "cell_type": "code",
   "execution_count": 13,
   "source": [
    "for i, tv_show in enumerate(tv_shows):\n",
    "    print(f\"{i}. {tv_show}\")"
   ],
   "outputs": [
    {
     "output_type": "stream",
     "name": "stdout",
     "text": [
      "0. Vetenskapens värld\n",
      "1. Mästerkockarna\n",
      "2. Aktuellt\n",
      "3. Talang\n"
     ]
    }
   ],
   "metadata": {}
  },
  {
   "cell_type": "code",
   "execution_count": 14,
   "source": [
    "# list of cubes\n",
    "cubes = [x**3 for x in range(10)]\n",
    "print(cubes)"
   ],
   "outputs": [
    {
     "output_type": "stream",
     "name": "stdout",
     "text": [
      "[0, 1, 8, 27, 64, 125, 216, 343, 512, 729]\n"
     ]
    }
   ],
   "metadata": {}
  },
  {
   "cell_type": "code",
   "execution_count": 1,
   "source": [
    "cubes_even = [x**3 for x in range(10) if x%2 == 0]\n",
    "print(cubes_even) "
   ],
   "outputs": [
    {
     "output_type": "stream",
     "name": "stdout",
     "text": [
      "[0, 8, 64, 216, 512]\n"
     ]
    }
   ],
   "metadata": {}
  }
 ],
 "metadata": {
  "orig_nbformat": 4,
  "language_info": {
   "name": "python",
   "version": "3.9.7",
   "mimetype": "text/x-python",
   "codemirror_mode": {
    "name": "ipython",
    "version": 3
   },
   "pygments_lexer": "ipython3",
   "nbconvert_exporter": "python",
   "file_extension": ".py"
  },
  "kernelspec": {
   "name": "python3",
   "display_name": "Python 3.9.7 64-bit"
  },
  "interpreter": {
   "hash": "aee8b7b246df8f9039afb4144a1f6fd8d2ca17a180786b69acc140d282b71a49"
  }
 },
 "nbformat": 4,
 "nbformat_minor": 2
}
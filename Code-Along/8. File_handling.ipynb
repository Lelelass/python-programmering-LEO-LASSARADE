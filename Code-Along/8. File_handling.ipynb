{
 "cells": [
  {
   "cell_type": "markdown",
   "source": [
    "# File handling\n",
    "\n",
    "optons\n",
    "- \"r\" read\n",
    "- \"a\" append\n",
    "- \"w\" write\n",
    "- \"x\" create"
   ],
   "metadata": {}
  },
  {
   "cell_type": "code",
   "execution_count": null,
   "source": [
    "# with -> use this when opening files \n",
    "# takes care of error handling\n",
    "with open(\"Files/quotes.txt\", \"r\") as f:\n",
    "    text = f.read()\n",
    "\n",
    "print(repr(text))"
   ],
   "outputs": [],
   "metadata": {}
  },
  {
   "cell_type": "markdown",
   "source": [
    "## Clean up quotes.txt\n",
    "- inspect quotes.txt\n",
    "- remove leading and trailing whitespaces\n",
    "- remove excessive whitespaces between words\n",
    "- add quote numbers\n",
    "- extract authors\n"
   ],
   "metadata": {}
  },
  {
   "cell_type": "code",
   "execution_count": null,
   "source": [
    "path = \"Files/quotes.txt\"\n",
    "\n",
    "with open(path, \"r\") as f1:\n",
    "    #quotes = f1.readlines()\n",
    "    #print(quotes)\n",
    "    quotes = [quote.strip(\"\\n\") for quote in f1.readlines()]\n",
    "    print(quotes)"
   ],
   "outputs": [],
   "metadata": {}
  },
  {
   "cell_type": "code",
   "execution_count": 8,
   "source": [
    "import re\n",
    "path = \"Files/quotes.txt\"\n",
    "path_clean = \"Files/quotes_clean.txt\"\n",
    "\n",
    "with open(path, \"r\") as f1, open(path_clean, \"w\") as f2:\n",
    "\n",
    "    for quote in f1.readlines():\n",
    "        quote = quote.strip(\" \\n\") #Removes leadind and \n",
    "        quote = re.sub(\" +\", \" \", quote)\n",
    "        authors = set([\" \".join(author) for author in authors])\n",
    "        print(authors)\n",
    "\n",
    "        f2.write(\"\\nAuthors: \")\n",
    "\n",
    "        for author in authors:\n",
    "            f2.write(author, end=\"\")\n",
    "\n",
    "print(f2)"
   ],
   "outputs": [
    {
     "output_type": "error",
     "ename": "NameError",
     "evalue": "name 'authors' is not defined",
     "traceback": [
      "\u001b[0;31m---------------------------------------------------------------------------\u001b[0m",
      "\u001b[0;31mNameError\u001b[0m                                 Traceback (most recent call last)",
      "\u001b[0;32m/var/folders/7l/z7gngl5n10j3v0jsljf1ldg40000gn/T/ipykernel_939/761607878.py\u001b[0m in \u001b[0;36m<module>\u001b[0;34m\u001b[0m\n\u001b[1;32m      8\u001b[0m         \u001b[0mquote\u001b[0m \u001b[0;34m=\u001b[0m \u001b[0mquote\u001b[0m\u001b[0;34m.\u001b[0m\u001b[0mstrip\u001b[0m\u001b[0;34m(\u001b[0m\u001b[0;34m\" \\n\"\u001b[0m\u001b[0;34m)\u001b[0m \u001b[0;31m#Removes leadind and\u001b[0m\u001b[0;34m\u001b[0m\u001b[0;34m\u001b[0m\u001b[0m\n\u001b[1;32m      9\u001b[0m         \u001b[0mquote\u001b[0m \u001b[0;34m=\u001b[0m \u001b[0mre\u001b[0m\u001b[0;34m.\u001b[0m\u001b[0msub\u001b[0m\u001b[0;34m(\u001b[0m\u001b[0;34m\" +\"\u001b[0m\u001b[0;34m,\u001b[0m \u001b[0;34m\" \"\u001b[0m\u001b[0;34m,\u001b[0m \u001b[0mquote\u001b[0m\u001b[0;34m)\u001b[0m\u001b[0;34m\u001b[0m\u001b[0;34m\u001b[0m\u001b[0m\n\u001b[0;32m---> 10\u001b[0;31m         \u001b[0mauthors\u001b[0m \u001b[0;34m=\u001b[0m \u001b[0mset\u001b[0m\u001b[0;34m(\u001b[0m\u001b[0;34m[\u001b[0m\u001b[0;34m\" \"\u001b[0m\u001b[0;34m.\u001b[0m\u001b[0mjoin\u001b[0m\u001b[0;34m(\u001b[0m\u001b[0mauthor\u001b[0m\u001b[0;34m)\u001b[0m \u001b[0;32mfor\u001b[0m \u001b[0mauthor\u001b[0m \u001b[0;32min\u001b[0m \u001b[0mauthors\u001b[0m\u001b[0;34m]\u001b[0m\u001b[0;34m)\u001b[0m\u001b[0;34m\u001b[0m\u001b[0;34m\u001b[0m\u001b[0m\n\u001b[0m\u001b[1;32m     11\u001b[0m         \u001b[0mprint\u001b[0m\u001b[0;34m(\u001b[0m\u001b[0mauthors\u001b[0m\u001b[0;34m)\u001b[0m\u001b[0;34m\u001b[0m\u001b[0;34m\u001b[0m\u001b[0m\n\u001b[1;32m     12\u001b[0m \u001b[0;34m\u001b[0m\u001b[0m\n",
      "\u001b[0;31mNameError\u001b[0m: name 'authors' is not defined"
     ]
    }
   ],
   "metadata": {}
  }
 ],
 "metadata": {
  "orig_nbformat": 4,
  "language_info": {
   "name": "python",
   "version": "3.9.7",
   "mimetype": "text/x-python",
   "codemirror_mode": {
    "name": "ipython",
    "version": 3
   },
   "pygments_lexer": "ipython3",
   "nbconvert_exporter": "python",
   "file_extension": ".py"
  },
  "kernelspec": {
   "name": "python3",
   "display_name": "Python 3.9.7 64-bit ('python-programmering-LEO-LASSARADE-ufRNraRM': pipenv)"
  },
  "interpreter": {
   "hash": "15238536dd3fd07007fde1b5ca5ad686ed2b4bc9b7a767e1946823b6381f1841"
  }
 },
 "nbformat": 4,
 "nbformat_minor": 2
}
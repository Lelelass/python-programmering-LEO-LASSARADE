{
 "cells": [
  {
   "cell_type": "code",
   "execution_count": null,
   "source": [
    "import oldcoins\n",
    "\n",
    "class Person:\n",
    "    def __init__(self, name, age) -> None:\n",
    "        self._name = name\n",
    "        self._age = age\n",
    "    \n",
    "    @property\n",
    "    def age(self):\n",
    "        return self._age\n",
    "    \n",
    "    @age.setter\n",
    "    def age(self, value):\n",
    "        if not isinstance(value, int):\n",
    "            raise TypeError(\"Must be int\")\n",
    "    \n",
    "    # TODO : Make a property for name and use e.g. regex to check that we have a valid name\n",
    "\n",
    "    def say_hi(self):\n",
    "        print(f\"Person {self.name} says hi\")\n",
    "\n",
    "class Student(Person):\n",
    "    def __init__(self, name, age, language) -> None:\n",
    "        super().__init__(name, age)\n",
    "\n",
    "        self.language = language\n",
    "\n",
    "    # TODO : Make language to property\n",
    "\n",
    "    def say_hi(self):\n",
    "        print(f\"Student {self.name} says yo in language{self.language}\")\n",
    "\n",
    "class Viking(Person):\n",
    "    def __init__(self, name, age) -> None:\n",
    "        super().__init__(name, age)\n",
    "        self.stash = oldcoins.OldCoinStash(name)\n",
    "\n",
    "\n",
    "\n",
    "p1 = Person(\"Anita\", 50)\n",
    "s1 = Student(\"gore\", 20, \"Python\")\n",
    "v1 = Viking(\"Ragnar\", 30)\n",
    "\n"
   ],
   "outputs": [],
   "metadata": {}
  }
 ],
 "metadata": {
  "orig_nbformat": 4,
  "language_info": {
   "name": "python",
   "version": "3.9.6"
  },
  "kernelspec": {
   "name": "python3",
   "display_name": "Python 3.9.6 64-bit ('python-programmering-LEO-LASSARADE-1ztIdyV-': pipenv)"
  },
  "interpreter": {
   "hash": "bad5ac8d432cba18cf0c9b835ccf1a1a0c1156fd2912ff352f1e5c7ada150402"
  }
 },
 "nbformat": 4,
 "nbformat_minor": 2
}
{
 "cells": [
  {
   "cell_type": "markdown",
   "source": [
    "# Strings\n",
    "## Concatenating strings"
   ],
   "metadata": {}
  },
  {
   "cell_type": "code",
   "execution_count": 2,
   "source": [
    "school = \"IT hogskolan\"\n",
    "adress = \"Ebbe Lieberbathsgatan 18C\"\n",
    "phone = \"112\"\n",
    "\n",
    "contact_details = f\"\"\"\n",
    "Name: Leo lass\n",
    "School: {school}\n",
    "Adresse: {adress}\n",
    "Phone: {phone}\n",
    "\"\"\"\n",
    "\n",
    "print(contact_details)"
   ],
   "outputs": [
    {
     "output_type": "stream",
     "name": "stdout",
     "text": [
      "\n",
      "Name: Leo lass\n",
      "School: IT hogskolan\n",
      "Adresse: Ebbe Lieberbathsgatan 18C\n",
      "Phone: 112\n",
      "\n"
     ]
    }
   ],
   "metadata": {}
  },
  {
   "cell_type": "markdown",
   "source": [
    "Conatenate with loop"
   ],
   "metadata": {}
  },
  {
   "cell_type": "code",
   "execution_count": 6,
   "source": [
    "bamba = \"Chili sin carne, Kottbullar, Fisk, Taco\".split(\", \")\n",
    "days = \"Mon tue wed thu fri\".split()\n",
    "\n",
    "menu = \"Veckomeny \\n\"\n",
    "\n",
    "for day, food in zip(days, bamba):\n",
    "    menu += f\"{day}: {food}\\n\"\n",
    "\n",
    "print(menu)"
   ],
   "outputs": [
    {
     "output_type": "stream",
     "name": "stdout",
     "text": [
      "Veckomeny \n",
      "Mon: Chili sin carne\n",
      "tue: Kottbullar\n",
      "wed: Fisk\n",
      "thu: Taco\n",
      "\n"
     ]
    }
   ],
   "metadata": {}
  },
  {
   "cell_type": "markdown",
   "source": [
    "## Indexing"
   ],
   "metadata": {}
  },
  {
   "cell_type": "code",
   "execution_count": 12,
   "source": [
    "quote =\"!False - it's funny because it's True\"\n",
    "#quote ='!False - it's funny because it's True' Fungerar ej\n",
    "\n",
    "print(f\"quote[0]: {quote[0]}\")\n",
    "print(f\"quote[-1]: {quote[-1]}\")\n",
    "print(f\"quote[-4:]: {quote[-4:]}\")\n",
    "print(f\"quote[1:5] {quote[1:6]}\")\n",
    "\n",
    "print(f\"Backwords quote[::-1]: {quote[::-1]}\")\n",
    "\n"
   ],
   "outputs": [
    {
     "output_type": "stream",
     "name": "stdout",
     "text": [
      "quote[0]: !\n",
      "quote[-1]: e\n",
      "quote[-4:]: True\n",
      "quote[1:5] False\n",
      "Backwords quote[::-1]: eurT s'ti esuaceb ynnuf s'ti - eslaF!\n"
     ]
    }
   ],
   "metadata": {}
  },
  {
   "cell_type": "markdown",
   "source": [
    "## Split strings"
   ],
   "metadata": {}
  },
  {
   "cell_type": "code",
   "execution_count": 2,
   "source": [
    "numbers = input(\"Ange nagra tall med mellanslag\").split()\n",
    "numbers = [float(x) for x in numbers if x.isdigit()]\n",
    "\n",
    "print(numbers)"
   ],
   "outputs": [
    {
     "output_type": "stream",
     "name": "stdout",
     "text": [
      "[5.0, 4.0, 3.0]\n"
     ]
    }
   ],
   "metadata": {}
  },
  {
   "cell_type": "markdown",
   "source": [
    "## Regular expression"
   ],
   "metadata": {}
  },
  {
   "cell_type": "code",
   "execution_count": 4,
   "source": [
    "import re\n",
    "\n",
    "text =\"Mitt telefonnummer är 021-432567, Adas telefonnummer är 041-414546, Bedas : 0739-231451\"\n",
    "\n",
    "match1 = re.findall(r\"\\d\\d\\d-\\d\\d\\d\\d\\d\\d\", text)\n",
    "print(match1)\n",
    "match2 = re.findall(r\"\\d{3}-\\d{6}\", text)\n",
    "print(match2)"
   ],
   "outputs": [
    {
     "output_type": "stream",
     "name": "stdout",
     "text": [
      "['021-432567', '041-414546', '739-231451']\n",
      "['021-432567', '041-414546', '739-231451']\n"
     ]
    }
   ],
   "metadata": {}
  },
  {
   "cell_type": "code",
   "execution_count": 5,
   "source": [
    "import re\n",
    "text = \"Det vqr en gang en katt, som tog pa sig en hatt, jag blev matt; sa jag spelade schack och vann med skolmatt \"\n",
    "\n",
    "match = re.findall(r\".att\", text)\n",
    "print(match)"
   ],
   "outputs": [
    {
     "output_type": "stream",
     "name": "stdout",
     "text": [
      "['katt', 'hatt', 'matt', 'matt']\n"
     ]
    }
   ],
   "metadata": {}
  }
 ],
 "metadata": {
  "orig_nbformat": 4,
  "language_info": {
   "name": "python",
   "version": "3.9.7",
   "mimetype": "text/x-python",
   "codemirror_mode": {
    "name": "ipython",
    "version": 3
   },
   "pygments_lexer": "ipython3",
   "nbconvert_exporter": "python",
   "file_extension": ".py"
  },
  "kernelspec": {
   "name": "python3",
   "display_name": "Python 3.9.7 64-bit ('python-programmering-LEO-LASSARADE-ufRNraRM': pipenv)"
  },
  "interpreter": {
   "hash": "15238536dd3fd07007fde1b5ca5ad686ed2b4bc9b7a767e1946823b6381f1841"
  }
 },
 "nbformat": 4,
 "nbformat_minor": 2
}
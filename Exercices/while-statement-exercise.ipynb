{
 "cells": [
  {
   "cell_type": "markdown",
   "source": [
    "# while statement exercises\n",
    "## Count numbers"
   ],
   "metadata": {}
  },
  {
   "cell_type": "code",
   "execution_count": 2,
   "source": [
    "n = -10\n",
    "while n <= 10:\n",
    "    print(n, end = \", \")#Format med end.\n",
    "    n += 20 # Assignment operator (n++ in C# etc.)"
   ],
   "outputs": [
    {
     "output_type": "stream",
     "name": "stdout",
     "text": [
      "-10, 10, "
     ]
    }
   ],
   "metadata": {}
  },
  {
   "cell_type": "markdown",
   "source": [
    "## 2. Arithmetic sum"
   ],
   "metadata": {}
  },
  {
   "cell_type": "code",
   "execution_count": 5,
   "source": [
    "n = 1\n",
    "sum = 0\n",
    "while n <= 100:\n",
    "    sum += n\n",
    "    n += 1\n",
    "print(f\"a) {sum}\")\n",
    "\n",
    "n = 1\n",
    "sum = 0\n",
    "while n <= 99:\n",
    "    sum += n\n",
    "    n += 1\n",
    "print(f\"b) {sum}\")"
   ],
   "outputs": [
    {
     "output_type": "stream",
     "name": "stdout",
     "text": [
      "a) 5050\n",
      "b) 4950\n"
     ]
    }
   ],
   "metadata": {}
  },
  {
   "cell_type": "markdown",
   "source": [
    "## 3. Guess number game"
   ],
   "metadata": {}
  },
  {
   "cell_type": "code",
   "execution_count": 29,
   "source": [
    "import random as rnd\n",
    "\n",
    "försök = 0\n",
    "slumptal = rnd.randrange(1,100)\n",
    "guess = 0\n",
    "\n",
    "while guess != slumptal:\n",
    "   guess = float(input(\"Guess a number between 1 and 100\"))\n",
    "   if guess == slumptal:\n",
    "    print(\"Grattis det var rätt\")\n",
    "   elif guess > slumptal:\n",
    "    försök += 1\n",
    "    print(f\"försök lägre. Du har använt {försök} försök\")\n",
    "   else:\n",
    "    försök += 1\n",
    "    print(f\"Försök högre. Du har använt {försök} försök\")\n"
   ],
   "outputs": [
    {
     "output_type": "stream",
     "name": "stdout",
     "text": [
      "försök lägre. Du har använt 1 försök\n",
      "försök lägre. Du har använt 2 försök\n",
      "försök lägre. Du har använt 3 försök\n",
      "Försök högre. Du har använt 4 försök\n",
      "Försök högre. Du har använt 5 försök\n",
      "Grattis det var rätt\n"
     ]
    }
   ],
   "metadata": {}
  },
  {
   "cell_type": "code",
   "execution_count": null,
   "source": [
    "import random as rnd\n",
    "försök = 0\n",
    "slumptal = rnd.randrange(1,100)\n",
    "used_range = 100\n",
    "guess = 0\n",
    "\n",
    "while guess != slumptal:\n",
    "    guess = 50\n",
    "    if guess > slumptal:\n",
    "        guess = used_range - (guess/2)\n",
    "        print(f\"{försök} försök\")\n",
    "    elif guess < slumptal:\n",
    "        guess = used_range - (guess + guess/2)\n",
    "        print(f\"{försök} försök\")\n"
   ],
   "outputs": [],
   "metadata": {}
  },
  {
   "cell_type": "markdown",
   "source": [
    "## 4. Multiplication game"
   ],
   "metadata": {}
  },
  {
   "cell_type": "code",
   "execution_count": 36,
   "source": [
    "import random as rnd\n",
    "\n",
    "play_again = True\n",
    "score = 0\n",
    "\n",
    "while play_again == True:\n",
    "    x = rnd.randrange(1,10)\n",
    "    y = rnd.randrange(1,10)\n",
    "    result = x * y\n",
    "    print(f\"What is the result of the multiplication {x} * {y} ?\")\n",
    "    guess = float(input(\"Your answer\"))\n",
    "    if guess == result:\n",
    "        score += 1\n",
    "        print(f\"Correct !, current score {score}\")\n",
    "    else:\n",
    "        print(f\"Wrong !, current score {score}\")\n",
    "\n",
    "    keep_playing = input(\"Do you want to keep playing ? [Y/N]\")\n",
    "    if keep_playing == \"Y\":\n",
    "       continue\n",
    "    else:\n",
    "       play_again = False\n",
    "\n"
   ],
   "outputs": [
    {
     "output_type": "stream",
     "name": "stdout",
     "text": [
      "What is the result of the multiplication 8 * 7 ?\n",
      "Wrong !, current score 0\n",
      "What is the result of the multiplication 8 * 6 ?\n",
      "Wrong !, current score 0\n",
      "What is the result of the multiplication 1 * 8 ?\n",
      "Correct !, current score 1\n"
     ]
    }
   ],
   "metadata": {}
  },
  {
   "cell_type": "markdown",
   "source": [
    "## 5. Check convergence\n",
    "\n",
    "a)"
   ],
   "metadata": {}
  },
  {
   "cell_type": "code",
   "execution_count": 51,
   "source": [
    "n = -1\n",
    "equation = 1/2**n\n",
    "sum = 0\n",
    "\n",
    "while n < 100:\n",
    "   n += 1\n",
    "   sum += equation\n",
    "\n",
    "print(sum)\n"
   ],
   "outputs": [
    {
     "output_type": "stream",
     "name": "stdout",
     "text": [
      "202.0\n"
     ]
    }
   ],
   "metadata": {}
  },
  {
   "cell_type": "markdown",
   "source": [
    "b)"
   ],
   "metadata": {}
  },
  {
   "cell_type": "code",
   "execution_count": 45,
   "source": [
    "n = 0\n",
    "equation = (-1) ** n/(2 * n + 1)\n",
    "sum = 0\n",
    "\n",
    "while n < 4:\n",
    "   n += 1\n",
    "   sum += equation\n",
    "\n",
    "print(sum)"
   ],
   "outputs": [
    {
     "output_type": "stream",
     "name": "stdout",
     "text": [
      "4.0\n"
     ]
    }
   ],
   "metadata": {}
  }
 ],
 "metadata": {
  "orig_nbformat": 4,
  "language_info": {
   "name": "python",
   "version": "3.9.6",
   "mimetype": "text/x-python",
   "codemirror_mode": {
    "name": "ipython",
    "version": 3
   },
   "pygments_lexer": "ipython3",
   "nbconvert_exporter": "python",
   "file_extension": ".py"
  },
  "kernelspec": {
   "name": "python3",
   "display_name": "Python 3.9.6 64-bit"
  },
  "interpreter": {
   "hash": "aee8b7b246df8f9039afb4144a1f6fd8d2ca17a180786b69acc140d282b71a49"
  }
 },
 "nbformat": 4,
 "nbformat_minor": 2
}
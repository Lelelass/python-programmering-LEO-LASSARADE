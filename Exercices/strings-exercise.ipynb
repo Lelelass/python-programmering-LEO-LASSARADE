{
 "cells": [
  {
   "cell_type": "markdown",
   "source": [
    "# Strings exercices\n",
    "## 1. Counting letters"
   ],
   "metadata": {}
  },
  {
   "cell_type": "code",
   "execution_count": 8,
   "source": [
    "word = input(\"Write a word\")\n",
    "word_lenght = len(word)\n",
    "print(word)\n",
    "uppercount = 0\n",
    "\n",
    "for letter in word:\n",
    "    if letter.isupper() == True:\n",
    "        uppercount += 1\n",
    "\n",
    "print(f\"Word has {uppercount} uppercase letters and {word_lenght - uppercount} lowercase letters\")\n"
   ],
   "outputs": [
    {
     "output_type": "stream",
     "name": "stdout",
     "text": [
      "PythoN\n",
      "Word has 2 uppercase letters and 4 lowercase letters\n"
     ]
    }
   ],
   "metadata": {}
  },
  {
   "cell_type": "markdown",
   "source": [
    "## 2. Counting words"
   ],
   "metadata": {}
  },
  {
   "cell_type": "code",
   "execution_count": 15,
   "source": [
    "Sentence = \"A picture says more than a thousand words, a matematical formula says more than a thousand pictures.\"\n",
    "\n",
    "count_words = 1 # Sentence doesn't start with empty space so we have to add 1 to the word count. I use empty spaces to count words\n",
    "\n",
    "for letter in Sentence:\n",
    "    if letter.isspace() == True:\n",
    "        count_words += 1\n",
    "\n",
    "print(f\"The sentence is made of {count_words} words\")\n"
   ],
   "outputs": [
    {
     "output_type": "stream",
     "name": "stdout",
     "text": [
      "The sentence is made of 17 words \n"
     ]
    }
   ],
   "metadata": {}
  },
  {
   "cell_type": "markdown",
   "source": [
    "## 3. Palindrome"
   ],
   "metadata": {}
  },
  {
   "cell_type": "code",
   "execution_count": 18,
   "source": [
    "palindcheck = input(\"Write something\")\n",
    "\n",
    "bokstavlista =[character for character in palindcheck]\n",
    "print(bokstavlista)\n",
    "i = -1\n",
    "count = 0\n",
    "\n",
    "for entry in bokstavlista:\n",
    "    if entry == bokstavlista[i]:\n",
    "        count += 1\n",
    "    i -= 1\n",
    "\n",
    "print(f\"input ärr en {count} grad palindrom\")\n",
    "\n"
   ],
   "outputs": [
    {
     "output_type": "stream",
     "name": "stdout",
     "text": [
      "['A', 'n', 'n', 'A']\n",
      "input -r en 4 grad palindrom\n"
     ]
    }
   ],
   "metadata": {}
  }
 ],
 "metadata": {
  "orig_nbformat": 4,
  "language_info": {
   "name": "python",
   "version": "3.9.6",
   "mimetype": "text/x-python",
   "codemirror_mode": {
    "name": "ipython",
    "version": 3
   },
   "pygments_lexer": "ipython3",
   "nbconvert_exporter": "python",
   "file_extension": ".py"
  },
  "kernelspec": {
   "name": "python3",
   "display_name": "Python 3.9.6 64-bit ('python-programmering-LEO-LASSARADE-1ztIdyV-': pipenv)"
  },
  "interpreter": {
   "hash": "bad5ac8d432cba18cf0c9b835ccf1a1a0c1156fd2912ff352f1e5c7ada150402"
  }
 },
 "nbformat": 4,
 "nbformat_minor": 2
}
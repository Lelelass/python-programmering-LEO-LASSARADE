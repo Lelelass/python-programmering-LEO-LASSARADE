{
 "cells": [
  {
   "cell_type": "markdown",
   "source": [
    "# Strings exercices"
   ],
   "metadata": {}
  },
  {
   "cell_type": "code",
   "execution_count": 8,
   "source": [
    "word = input(\"Write a word\")\n",
    "word_lenght = len(word)\n",
    "print(word)\n",
    "uppercount = 0\n",
    "\n",
    "for letter in word:\n",
    "    if letter.isupper() == True:\n",
    "        uppercount += 1\n",
    "\n",
    "print(f\"Word has {uppercount} uppercase letters and {word_lenght - uppercount} lowercase letters\")\n"
   ],
   "outputs": [
    {
     "output_type": "stream",
     "name": "stdout",
     "text": [
      "PythoN\n",
      "Word has 2 uppercase letters and 4 lowercase letters\n"
     ]
    }
   ],
   "metadata": {}
  },
  {
   "cell_type": "code",
   "execution_count": 11,
   "source": [
    "Sentence = \"A picture says more than a thousand words, a matematical formula says more than a thousand pictures.\"\n",
    "\n",
    "count_words = 1\n",
    "\n",
    "for letter in Sentence:\n",
    "    if letter.isspace == True:\n",
    "        count_words += 1\n",
    "\n",
    "print(count_words)\n"
   ],
   "outputs": [
    {
     "output_type": "stream",
     "name": "stdout",
     "text": [
      "1\n"
     ]
    }
   ],
   "metadata": {}
  },
  {
   "cell_type": "code",
   "execution_count": 12,
   "source": [
    "a = \" \"\n",
    "print(a.isspace)"
   ],
   "outputs": [
    {
     "output_type": "stream",
     "name": "stdout",
     "text": [
      "<built-in method isspace of str object at 0x7fd6a90c3e30>\n"
     ]
    }
   ],
   "metadata": {}
  }
 ],
 "metadata": {
  "orig_nbformat": 4,
  "language_info": {
   "name": "python",
   "version": "3.9.6",
   "mimetype": "text/x-python",
   "codemirror_mode": {
    "name": "ipython",
    "version": 3
   },
   "pygments_lexer": "ipython3",
   "nbconvert_exporter": "python",
   "file_extension": ".py"
  },
  "kernelspec": {
   "name": "python3",
   "display_name": "Python 3.9.6 64-bit ('python-programmering-LEO-LASSARADE-1ztIdyV-': pipenv)"
  },
  "interpreter": {
   "hash": "bad5ac8d432cba18cf0c9b835ccf1a1a0c1156fd2912ff352f1e5c7ada150402"
  }
 },
 "nbformat": 4,
 "nbformat_minor": 2
}
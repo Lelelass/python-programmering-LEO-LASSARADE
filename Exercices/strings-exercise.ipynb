{
 "cells": [
  {
   "cell_type": "markdown",
   "source": [
    "# Strings exercices\n",
    "## 1. Counting letters"
   ],
   "metadata": {}
  },
  {
   "cell_type": "code",
   "execution_count": 8,
   "source": [
    "word = input(\"Write a word\")\n",
    "word_lenght = len(word)\n",
    "print(word)\n",
    "uppercount = 0\n",
    "\n",
    "for letter in word:\n",
    "    if letter.isupper() == True:\n",
    "        uppercount += 1\n",
    "\n",
    "print(f\"Word has {uppercount} uppercase letters and {word_lenght - uppercount} lowercase letters\")\n"
   ],
   "outputs": [
    {
     "output_type": "stream",
     "name": "stdout",
     "text": [
      "PythoN\n",
      "Word has 2 uppercase letters and 4 lowercase letters\n"
     ]
    }
   ],
   "metadata": {}
  },
  {
   "cell_type": "markdown",
   "source": [
    "## 2. Counting words"
   ],
   "metadata": {}
  },
  {
   "cell_type": "code",
   "execution_count": 15,
   "source": [
    "Sentence = \"A picture says more than a thousand words, a matematical formula says more than a thousand pictures.\"\n",
    "\n",
    "count_words = 1 # Sentence doesn't start with empty space so we have to add 1 to the word count. I use empty spaces to count words\n",
    "\n",
    "for letter in Sentence:\n",
    "    if letter.isspace() == True:\n",
    "        count_words += 1\n",
    "\n",
    "print(f\"The sentence is made of {count_words} words\")\n"
   ],
   "outputs": [
    {
     "output_type": "stream",
     "name": "stdout",
     "text": [
      "The sentence is made of 17 words \n"
     ]
    }
   ],
   "metadata": {}
  },
  {
   "cell_type": "markdown",
   "source": [
    "## 3. Palindrome"
   ],
   "metadata": {}
  },
  {
   "cell_type": "code",
   "execution_count": 10,
   "source": [
    "palindcheck = input(\"Write something\").replace(\" \", \"\")\n",
    "palind_split = int(len(palindcheck)/2)\n",
    "\n",
    "print(f\"{palindcheck} – len : {palind_split}\")\n",
    "i = -1\n",
    "count = 0\n",
    "\n",
    "for entry in palindcheck:\n",
    "    if entry == palindcheck[i]:\n",
    "        count += 1\n",
    "    i -= 1\n",
    "    if i < -(palind_split):\n",
    "        break\n",
    "\n",
    "print(f\"input är en {count} grad palindrom\")\n",
    "\n"
   ],
   "outputs": [
    {
     "output_type": "stream",
     "name": "stdout",
     "text": [
      "anna – len : 2\n",
      "input är en 2 grad palindrom\n"
     ]
    }
   ],
   "metadata": {}
  }
 ],
 "metadata": {
  "orig_nbformat": 4,
  "language_info": {
   "name": "python",
   "version": "3.9.7",
   "mimetype": "text/x-python",
   "codemirror_mode": {
    "name": "ipython",
    "version": 3
   },
   "pygments_lexer": "ipython3",
   "nbconvert_exporter": "python",
   "file_extension": ".py"
  },
  "kernelspec": {
   "name": "python3",
   "display_name": "Python 3.9.7 64-bit"
  },
  "interpreter": {
   "hash": "aee8b7b246df8f9039afb4144a1f6fd8d2ca17a180786b69acc140d282b71a49"
  }
 },
 "nbformat": 4,
 "nbformat_minor": 2
}
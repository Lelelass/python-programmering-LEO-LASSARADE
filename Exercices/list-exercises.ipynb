{
 "cells": [
  {
   "cell_type": "markdown",
   "source": [
    "# List exercices "
   ],
   "metadata": {}
  },
  {
   "cell_type": "code",
   "execution_count": 4,
   "source": [
    "import random as rand\n",
    "n_draws = 0\n",
    "dice_lottings = []\n",
    "\n",
    "while n_draws < 11:\n",
    "    n_draws += 1\n",
    "    draw = rand.randrange(1,7)\n",
    "    dice_lottings.append(draw)\n",
    "\n",
    "\n",
    "print(dice_lottings)\n",
    "\n",
    "#a)\n",
    "dice_lottings.sort()\n",
    "\n",
    "print(dice_lottings)\n",
    "\n",
    "#b)\n",
    "dice_lottings.sort(reverse = True)\n",
    "\n",
    "print(dice_lottings)\n",
    "\n",
    "#c)\n",
    "print(max(dice_lottings))\n",
    "print(min(dice_lottings))"
   ],
   "outputs": [
    {
     "output_type": "stream",
     "name": "stdout",
     "text": [
      "[1, 1, 4, 6, 4, 6, 4, 2, 2, 3, 3]\n",
      "[1, 1, 2, 2, 3, 3, 4, 4, 4, 6, 6]\n",
      "[6, 6, 4, 4, 4, 3, 3, 2, 2, 1, 1]\n",
      "6\n",
      "1\n"
     ]
    }
   ],
   "metadata": {}
  },
  {
   "cell_type": "markdown",
   "source": [],
   "metadata": {}
  }
 ],
 "metadata": {
  "orig_nbformat": 4,
  "language_info": {
   "name": "python",
   "version": "3.9.6",
   "mimetype": "text/x-python",
   "codemirror_mode": {
    "name": "ipython",
    "version": 3
   },
   "pygments_lexer": "ipython3",
   "nbconvert_exporter": "python",
   "file_extension": ".py"
  },
  "kernelspec": {
   "name": "python3",
   "display_name": "Python 3.9.6 64-bit ('python-programmering-LEO-LASSARADE-1ztIdyV-': pipenv)"
  },
  "interpreter": {
   "hash": "bad5ac8d432cba18cf0c9b835ccf1a1a0c1156fd2912ff352f1e5c7ada150402"
  }
 },
 "nbformat": 4,
 "nbformat_minor": 2
}
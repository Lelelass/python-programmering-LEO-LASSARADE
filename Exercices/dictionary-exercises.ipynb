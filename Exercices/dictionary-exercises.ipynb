{
 "cells": [
  {
   "cell_type": "markdown",
   "source": [
    "# Dictionary exercices\n",
    "## 1. Curriculum"
   ],
   "metadata": {}
  },
  {
   "cell_type": "code",
   "execution_count": 3,
   "source": [
    "courses = {\n",
    "    \"Programmering med python\" : 20,\n",
    "    \"Intro till ai\" : 5,\n",
    "    \"Databehandling\" : 25,\n",
    "    \"Linjär algebra\" : 20,\n",
    "    \"Statistiska methoder\" : 30,\n",
    "    \"Maskininlärning\" : 45,\n",
    "    \"Djup maskininlärning\" : 40,\n",
    "    \"Databaser\" : 25,\n",
    "    \"LIA 1\" : 40,\n",
    "    \"Praktiskt maskininkärning\" : 35,\n",
    "    \"Projektmetodik\" : 10,\n",
    "    \"LIA 2\" : 70,\n",
    "    \"Examensarbete\" : 15\n",
    "}\n",
    "\n",
    "points = 0\n",
    "for keys, items in courses.items():\n",
    "    points += items\n",
    "\n",
    "print(points)\n"
   ],
   "outputs": [
    {
     "output_type": "stream",
     "name": "stdout",
     "text": [
      "380\n"
     ]
    }
   ],
   "metadata": {}
  },
  {
   "cell_type": "markdown",
   "source": [
    "## 2. Dice simulation"
   ],
   "metadata": {}
  },
  {
   "cell_type": "code",
   "execution_count": 7,
   "source": [
    "import random as rand\n",
    "\n",
    "counts = {\"1\": 0, \"2\": 0, \"3\" : 0, \"4\" : 0, \"5\" : 0, \"6\" : 0}\n",
    "\n",
    "for throw in range(1000000):\n",
    "    throw = rand.randrange(1,7)\n",
    "    if throw == 1:\n",
    "        counts[\"1\"] += 1\n",
    "    elif throw == 2:\n",
    "        counts[\"2\"] += 1\n",
    "    elif throw == 3:\n",
    "        counts[\"3\"] += 1\n",
    "    elif throw == 4:\n",
    "        counts[\"4\"] += 1\n",
    "    elif throw == 5:\n",
    "        counts[\"5\"] += 1\n",
    "    else:\n",
    "        counts[\"6\"] += 1    \n",
    "\n",
    "print(counts)"
   ],
   "outputs": [
    {
     "output_type": "stream",
     "name": "stdout",
     "text": [
      "{'1': 166592, '2': 166642, '3': 167104, '4': 166398, '5': 166249, '6': 167015}\n"
     ]
    }
   ],
   "metadata": {}
  },
  {
   "cell_type": "markdown",
   "source": [
    "## 3. Pokemon list"
   ],
   "metadata": {}
  },
  {
   "cell_type": "markdown",
   "source": [
    "type left : ^(\\w+)?\\d+\\s\\w+\\s"
   ],
   "metadata": {}
  },
  {
   "cell_type": "code",
   "execution_count": 81,
   "source": [
    "import re\n",
    "path = \"files/pokemon_list.txt\"\n",
    "\n",
    "with open(path, \"r\") as pk_file:\n",
    "    pk_list = [entry.strip(\" \\n\") for entry in pk_file.readlines()]\n",
    "\n",
    "\n",
    "    print(pk_list)\n",
    "    \n",
    "    pk_numbers = [re.sub('\\s\\w+(\\\\.\\s\\w+)?(\\'\\w)?([♀♂]?)\\s\\w+(/\\w+)?$', '', entry) for entry in pk_list]\n",
    "    pk_types = [re.sub('^\\d+\\s\\w+(\\\\.\\s\\w+)?(\\'\\w)?([♀♂]?)\\s', '', entry) for entry in pk_list]\n",
    "    pk_names =[]\n",
    "    for entry in pk_list:\n",
    "        entry = re.sub('\\s\\w+(/\\w+)?$', '', entry)\n",
    "        entry = re.sub('^\\d+\\s', '', entry)\n",
    "        pk_names.append(entry)\n",
    "    \n",
    "    pk_characteristics = tuple(zip(pk_types, pk_numbers))\n",
    "    pokedex = dict(zip(pk_names, pk_characteristics))\n",
    "\n",
    "    print(pokedex[\"Mr. Mime\"])\n",
    "    "
   ],
   "outputs": [
    {
     "output_type": "stream",
     "name": "stdout",
     "text": [
      "['1 Bulbasaur Gräs/Gift', '2 Ivysaur Gräs/Gift', '3 Venusaur Gräs/Gift', '4 Charmander Eld', '5 Charmeleon Eld', '6 Charizard Eld/Flygande', '7 Squirtle Vatten', '8 Wartortle Vatten', '9 Blastoise Vatten', '10 Caterpie Insekt', '11 Metapod Insekt', '12 Butterfree Insekt/Flygande', '13 Weedle Insekt/Gift', '14 Kakuna Insekt/Gift', '15 Beedrill Insekt/Gift', '16 Pidgey Normal/Flygande', '17 Pidgeotto Normal/Flygande', '18 Pidgeot Normal/Flygande', '19 Rattata Normal', '20 Raticate Normal', '21 Spearow Normal/Flygande', '22 Fearow Normal/Flygande', '23 Ekans Gift', '24 Arbok Gift', '25 Pikachu Elektrisk', '26 Raichu Elektrisk', '27 Sandshrew Mark', '28 Sandslash Mark', '29 Nidoran♀ Gift', '30 Nidorina Gift', '31 Nidoqueen Gift/Mark', '32 Nidoran♂ Gift', '33 Nidorino Gift', '34 Nidoking Gift/Mark', '35 Clefairy Fé', '36 Clefable Fé', '37 Vulpix Eld', '38 Ninetales Eld', '39 Jigglypuff Normal/Fé', '40 Wigglytuff Normal/Fé', '41 Zubat Gift/Flygande', '42 Golbat Gift/Flygande', '43 Oddish Gräs/Gift', '44 Gloom Gräs/Gift', '45 Vileplume Gräs/Gift', '46 Paras Insekt/Gräs', '47 Parasect Insekt/Gräs', '48 Venonat Insekt/Gift', '49 Venomoth Insekt/Gift', '50 Diglett Mark', '51 Dugtrio Mark', '52 Meowth Normal', '53 Persian Normal', '54 Psyduck Vatten', '55 Golduck Vatten', '56 Mankey Kamp', '57 Primeape Kamp', '58 Growlithe Eld', '59 Arcanine Eld', '60 Poliwag Vatten', '61 Poliwhirl Vatten', '62 Poliwrath Vatten/Kamp', '63 Abra Psykisk', '64 Kadabra Psykisk', '65 Alakazam Psykisk', '66 Machop Kamp', '67 Machoke Kamp', '68 Machamp Kamp', '69 Bellsprout Gräs/Gift', '70 Weepinbell Gräs/Gift', '71 Victreebel Gräs/Gift', '72 Tentacool Vatten/Gift', '73 Tentacruel Vatten/Gift', '74 Geodude Sten/Mark', '75 Graveler Sten/Mark', '76 Golem Sten/Mark', '77 Ponyta Eld', '78 Rapidash Eld', '79 Slowpoke Vatten/Psykisk', '80 Slowbro Vatten/Psykisk', '81 Magnemite Elektrisk/Stål', '82 Magneton Elektrisk/Stål', \"83 Farfetch'd Normal/Flygande\", '84 Doduo Normal/Flygande', '85 Dodrio Normal/Flygande', '86 Seel Vatten', '87 Dewgong Vatten/Is', '88 Grimer Gift', '89 Muk Gift', '90 Shellder Vatten', '91 Cloyster Vatten/Is', '92 Gastly Spöke/Gift', '93 Haunter Spöke/Gift', '94 Gengar Spöke/Gift', '95 Onix Sten/Mark', '96 Drowzee Psykisk', '97 Hypno Psykisk', '98 Krabby Vatten', '99 Kingler Vatten', '100 Voltorb Elektrisk', '101 Electrode Elektrisk', '102 Exeggcute Gräs/Psykisk', '103 Exeggutor Gräs/Psykisk', '104 Cubone Mark', '105 Marowak Mark', '106 Hitmonlee Kamp', '107 Hitmonchan Kamp', '108 Lickitung Normal', '109 Koffing Gift', '110 Weezing Gift', '111 Rhyhorn Mark/Sten', '112 Rhydon Mark/Sten', '113 Chansey Normal', '114 Tangela Gräs', '115 Kangaskhan Normal', '116 Horsea Vatten', '117 Seadra Vatten', '118 Goldeen Vatten', '119 Seaking Vatten', '120 Staryu Vatten', '121 Starmie Vatten/Psykisk', '122 Mr. Mime Psychic/Fairy', '123 Scyther Insekt/Flygande', '124 Jynx Is/Psykisk', '125 Electabuzz Elektrisk', '126 Magmar Eld', '127 Pinsir Insekt', '128 Tauros Normal', '129 Magikarp Vatten', '130 Gyarados Vatten/Flygande', '131 Lapras Vatten/Is', '132 Ditto Normal', '133 Eevee Normal', '134 Vaporeon Vatten', '135 Jolteon Elektrisk', '136 Flareon Eld', '137 Porygon Normal', '138 Omanyte Sten/Vatten', '139 Omastar Sten/Vatten', '140 Kabuto Sten/Vatten', '141 Kabutops Sten/Vatten', '142 Aerodactyl Sten/Flygande', '143 Snorlax Normal', '144 Articuno Is/Flygande', '145 Zapdos Elektrisk/Flygande', '146 Moltres Eld/Flygande', '147 Dratini Drake', '148 Dragonair Drake', '149 Dragonite Drake/Flygande', '150 Mewtwo Psykisk']\n",
      "('Psychic/Fairy', '122')\n"
     ]
    }
   ],
   "metadata": {}
  },
  {
   "cell_type": "markdown",
   "source": [
    "## 4. Morse"
   ],
   "metadata": {}
  },
  {
   "cell_type": "code",
   "execution_count": 9,
   "source": [
    "import re\n",
    "\n",
    "path = \"files/morse.txt\"\n",
    "with open(path, \"r\") as morse_file:\n",
    "    code = [line.strip(\" \\n\") for line in morse_file.readlines()]\n",
    "    letters = [entry[0] for entry in code]\n",
    "    values = [re.sub('^\\w:\\s', '', entry) for entry in code]\n",
    "    morse_code = dict(zip(letters,values))\n",
    "\n",
    "def Morse_machine(string):\n",
    "    morsed =''\n",
    "    string = string.upper()\n",
    "    splitted = list(string)\n",
    "    for letter in splitted:\n",
    "        morsed += morse_code[letter]\n",
    "    return morsed\n",
    "\n",
    "\n",
    "print(morse_code)\n",
    "print(Morse_machine('point'))"
   ],
   "outputs": [
    {
     "output_type": "stream",
     "name": "stdout",
     "text": [
      "{'A': '.-', 'B': '-...', 'C': '-.-.', 'D': '-..', 'E': '.', 'F': '..-.', 'G': '--', 'H': '....', 'I': '..', 'J': '.---', 'K': '-.-', 'L': '.-..', 'M': '--', 'N': '-.', 'O': '---', 'P': '.--', 'Q': '--.-', 'R': '.-.', 'S': '...', 'T': '-', 'U': '..-', 'V': '...-', 'W': '.--', 'X': '-..-', 'Y': '-.--', 'Z': '--..', 'Å': '.--.-', 'Ä': '.-.-', 'Ö': '---'}\n",
      ".-----..-.-\n"
     ]
    }
   ],
   "metadata": {}
  }
 ],
 "metadata": {
  "orig_nbformat": 4,
  "language_info": {
   "name": "python",
   "version": "3.9.6",
   "mimetype": "text/x-python",
   "codemirror_mode": {
    "name": "ipython",
    "version": 3
   },
   "pygments_lexer": "ipython3",
   "nbconvert_exporter": "python",
   "file_extension": ".py"
  },
  "kernelspec": {
   "name": "python3",
   "display_name": "Python 3.9.6 64-bit ('python-programmering-LEO-LASSARADE-1ztIdyV-': pipenv)"
  },
  "interpreter": {
   "hash": "bad5ac8d432cba18cf0c9b835ccf1a1a0c1156fd2912ff352f1e5c7ada150402"
  }
 },
 "nbformat": 4,
 "nbformat_minor": 2
}
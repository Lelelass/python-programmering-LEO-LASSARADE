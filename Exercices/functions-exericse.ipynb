{
 "cells": [
  {
   "cell_type": "markdown",
   "source": [
    "# Functions\n",
    "\n",
    "## 1. Area"
   ],
   "metadata": {}
  },
  {
   "cell_type": "code",
   "execution_count": 4,
   "source": [
    "def triangle_area(base, height):\n",
    "    area = (base * height)/2\n",
    "    return area\n",
    "\n",
    "print(f\"{triangle_area(4,5)} storleksenhet\")\n"
   ],
   "outputs": [
    {
     "output_type": "stream",
     "name": "stdout",
     "text": [
      "10.0 storleksenhet\n"
     ]
    }
   ],
   "metadata": {}
  },
  {
   "cell_type": "markdown",
   "source": [
    "## 2. Euclidean distance"
   ],
   "metadata": {}
  },
  {
   "cell_type": "code",
   "execution_count": 13,
   "source": [
    "import math\n",
    "#a)\n",
    "def eucl_dist(P,Q):\n",
    "    distance = math.sqrt((P[0]-Q[0])**2 + (P[1]-Q[1])**2)\n",
    "    return distance\n",
    "\n",
    "print(eucl_dist((0,0),(10, 3)))\n",
    "\n",
    "#b)\n",
    "user_input = input(\"Write two point's P and Q coordinates as a succession of 4 digits (ex : 10 3 5 11\").split()\n",
    "coordinates = [float(number) for number in user_input] \n",
    "\n",
    "P_user = tuple(coordinates[0:2])\n",
    "Q_user = tuple(coordinates[2:4])\n",
    "\n",
    "print(eucl_dist(P_user,Q_user))\n",
    "\n",
    "#c)\n",
    "origin = (0,0)\n",
    "points_to_check = [(10, 3), (-1, -9), (10, -10), (4, -2), (9, -10)]\n",
    "\n",
    "for entry in points_to_check:\n",
    "    print(f\"Euclidian distance from origin to point {entry} : {eucl_dist(origin, entry)}\")\n",
    "\n"
   ],
   "outputs": [
    {
     "output_type": "stream",
     "name": "stdout",
     "text": [
      "10.44030650891055\n",
      "9.433981132056603\n",
      "euclidian distance from origin to point (10, 3) : 10.44030650891055\n",
      "euclidian distance from origin to point (-1, -9) : 9.055385138137417\n",
      "euclidian distance from origin to point (10, -10) : 14.142135623730951\n",
      "euclidian distance from origin to point (4, -2) : 4.47213595499958\n",
      "euclidian distance from origin to point (9, -10) : 13.45362404707371\n"
     ]
    }
   ],
   "metadata": {}
  }
 ],
 "metadata": {
  "orig_nbformat": 4,
  "language_info": {
   "name": "python",
   "version": "3.9.7",
   "mimetype": "text/x-python",
   "codemirror_mode": {
    "name": "ipython",
    "version": 3
   },
   "pygments_lexer": "ipython3",
   "nbconvert_exporter": "python",
   "file_extension": ".py"
  },
  "kernelspec": {
   "name": "python3",
   "display_name": "Python 3.9.7 64-bit ('python-programmering-LEO-LASSARADE-ufRNraRM': pipenv)"
  },
  "interpreter": {
   "hash": "15238536dd3fd07007fde1b5ca5ad686ed2b4bc9b7a767e1946823b6381f1841"
  }
 },
 "nbformat": 4,
 "nbformat_minor": 2
}
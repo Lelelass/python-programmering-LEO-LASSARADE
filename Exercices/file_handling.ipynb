{
 "cells": [
  {
   "cell_type": "code",
   "execution_count": 27,
   "source": [
    "import random as rand\n",
    "throws = [str(rand.randrange(1,7)) for throw in range(20)]\n",
    "fours = str(len([throw for throw in throws if throw == \"4\"]))\n",
    "\n",
    "path = \"files/dice_rolls.txt\"\n",
    "\n",
    "with open(path, \"w\") as d_r :\n",
    "    for throw in throws:\n",
    "        throw = throw + \" \"\n",
    "        d_r.write(throw)\n",
    "    throws.sort()\n",
    "    d_r.write(\"\\n\")\n",
    "    for throw in throws:\n",
    "        throw = throw + \" \" \n",
    "        d_r.write(throw)\n",
    "    d_r.write(\"\\n\" + fours)\n"
   ],
   "outputs": [
    {
     "output_type": "stream",
     "name": "stdout",
     "text": [
      "2\n"
     ]
    }
   ],
   "metadata": {}
  },
  {
   "cell_type": "code",
   "execution_count": 26,
   "source": [
    "import random as rand\n",
    "throws = [str(rand.randrange(1,7)) for throw in range(20)]\n",
    "print(throws)\n",
    "fours = str(len([throw for throw in throws if throw == \"4\"]))\n",
    "print(fours)"
   ],
   "outputs": [
    {
     "output_type": "stream",
     "name": "stdout",
     "text": [
      "['3', '1', '1', '3', '6', '5', '6', '4', '5', '5', '5', '3', '1', '4', '4', '2', '6', '2', '1', '1']\n",
      "3\n"
     ]
    }
   ],
   "metadata": {}
  }
 ],
 "metadata": {
  "orig_nbformat": 4,
  "language_info": {
   "name": "python",
   "version": "3.9.7",
   "mimetype": "text/x-python",
   "codemirror_mode": {
    "name": "ipython",
    "version": 3
   },
   "pygments_lexer": "ipython3",
   "nbconvert_exporter": "python",
   "file_extension": ".py"
  },
  "kernelspec": {
   "name": "python3",
   "display_name": "Python 3.9.7 64-bit ('python-programmering-LEO-LASSARADE-ufRNraRM': pipenv)"
  },
  "interpreter": {
   "hash": "15238536dd3fd07007fde1b5ca5ad686ed2b4bc9b7a767e1946823b6381f1841"
  }
 },
 "nbformat": 4,
 "nbformat_minor": 2
}
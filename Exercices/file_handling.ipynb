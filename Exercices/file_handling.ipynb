{
 "cells": [
  {
   "cell_type": "code",
   "execution_count": 27,
   "source": [
    "import random as rand\n",
    "throws = [str(rand.randrange(1,7)) for throw in range(20)]\n",
    "fours = str(len([throw for throw in throws if throw == \"4\"]))\n",
    "\n",
    "path = \"files/dice_rolls.txt\"\n",
    "\n",
    "with open(path, \"w\") as d_r :\n",
    "    for throw in throws:\n",
    "        throw = throw + \" \"\n",
    "        d_r.write(throw)\n",
    "    throws.sort()\n",
    "    d_r.write(\"\\n\")\n",
    "    for throw in throws:\n",
    "        throw = throw + \" \" \n",
    "        d_r.write(throw)\n",
    "    d_r.write(\"\\n\" + fours)\n"
   ],
   "outputs": [
    {
     "output_type": "stream",
     "name": "stdout",
     "text": [
      "2\n"
     ]
    }
   ],
   "metadata": {}
  },
  {
   "cell_type": "code",
   "execution_count": 54,
   "source": [
    "path = \"files/test_result.txt\"\n",
    "\n",
    "with open(path, \"r\") as test_results, open(path, \"a\") as test_update:\n",
    "    lines = [entry.strip(\" \\n\") for entry in test_results.readlines()]\n",
    "    lines.sort()\n",
    "    test_update.write(\"Ordered:\\n\")\n",
    "    for line in lines:\n",
    "        test_update.write(\"\\n\" + line)\n",
    "\n",
    "    for line in lines:\n",
    "        if int(line[-2:]) < 20:\n",
    "            line = line[:-2] + \" F\"\n",
    "        elif 20 <= int(line[-2:]) < 30:\n",
    "            line = line[:-2] + \" E\"\n",
    "        elif 30 <= int(line[-2:]) < 40:\n",
    "            line = line[:-2] + \" D\"\n",
    "        elif 40 <= int(line[-2:]) < 50:\n",
    "            line = line[:-2] + \" C\"\n",
    "        elif 50 <= int(line[-2:]) < 60:\n",
    "            line = line[:-2] + \" B\"\n",
    "        else:\n",
    "            line = line[:-2] + \" A\"\n",
    "\n",
    "        test_update.write(\"\\n\" + line)\n",
    "    \n",
    "\n",
    "\n",
    "\n",
    "\n",
    "    \n",
    "    \n"
   ],
   "outputs": [
    {
     "output_type": "stream",
     "name": "stdout",
     "text": [
      "\n"
     ]
    },
    {
     "output_type": "error",
     "ename": "ValueError",
     "evalue": "invalid literal for int() with base 10: ''",
     "traceback": [
      "\u001b[0;31m---------------------------------------------------------------------------\u001b[0m",
      "\u001b[0;31mValueError\u001b[0m                                Traceback (most recent call last)",
      "\u001b[0;32m/var/folders/7l/z7gngl5n10j3v0jsljf1ldg40000gn/T/ipykernel_2135/4187339941.py\u001b[0m in \u001b[0;36m<module>\u001b[0;34m\u001b[0m\n\u001b[1;32m     10\u001b[0m     \u001b[0;32mfor\u001b[0m \u001b[0mline\u001b[0m \u001b[0;32min\u001b[0m \u001b[0mlines\u001b[0m\u001b[0;34m:\u001b[0m\u001b[0;34m\u001b[0m\u001b[0;34m\u001b[0m\u001b[0m\n\u001b[1;32m     11\u001b[0m         \u001b[0mprint\u001b[0m\u001b[0;34m(\u001b[0m\u001b[0mline\u001b[0m\u001b[0;34m[\u001b[0m\u001b[0;34m-\u001b[0m\u001b[0;36m2\u001b[0m\u001b[0;34m:\u001b[0m\u001b[0;34m]\u001b[0m\u001b[0;34m)\u001b[0m\u001b[0;34m\u001b[0m\u001b[0;34m\u001b[0m\u001b[0m\n\u001b[0;32m---> 12\u001b[0;31m         \u001b[0;32mif\u001b[0m \u001b[0mint\u001b[0m\u001b[0;34m(\u001b[0m\u001b[0mline\u001b[0m\u001b[0;34m[\u001b[0m\u001b[0;34m-\u001b[0m\u001b[0;36m2\u001b[0m\u001b[0;34m:\u001b[0m\u001b[0;34m]\u001b[0m\u001b[0;34m)\u001b[0m \u001b[0;34m<\u001b[0m \u001b[0;36m20\u001b[0m\u001b[0;34m:\u001b[0m\u001b[0;34m\u001b[0m\u001b[0;34m\u001b[0m\u001b[0m\n\u001b[0m\u001b[1;32m     13\u001b[0m             \u001b[0mline\u001b[0m \u001b[0;34m=\u001b[0m \u001b[0mline\u001b[0m\u001b[0;34m[\u001b[0m\u001b[0;34m:\u001b[0m\u001b[0;34m-\u001b[0m\u001b[0;36m2\u001b[0m\u001b[0;34m]\u001b[0m \u001b[0;34m+\u001b[0m \u001b[0;34m\" F\"\u001b[0m\u001b[0;34m\u001b[0m\u001b[0;34m\u001b[0m\u001b[0m\n\u001b[1;32m     14\u001b[0m         \u001b[0;32melif\u001b[0m \u001b[0;36m20\u001b[0m \u001b[0;34m<=\u001b[0m \u001b[0mint\u001b[0m\u001b[0;34m(\u001b[0m\u001b[0mline\u001b[0m\u001b[0;34m[\u001b[0m\u001b[0;34m-\u001b[0m\u001b[0;36m2\u001b[0m\u001b[0;34m:\u001b[0m\u001b[0;34m]\u001b[0m\u001b[0;34m)\u001b[0m \u001b[0;34m<\u001b[0m \u001b[0;36m30\u001b[0m\u001b[0;34m:\u001b[0m\u001b[0;34m\u001b[0m\u001b[0;34m\u001b[0m\u001b[0m\n",
      "\u001b[0;31mValueError\u001b[0m: invalid literal for int() with base 10: ''"
     ]
    }
   ],
   "metadata": {}
  },
  {
   "cell_type": "code",
   "execution_count": 56,
   "source": [
    "line = \"Adam Gustafsson 25\"\n",
    "print(line[-2:])\n",
    "print(int(line[-2:]))"
   ],
   "outputs": [
    {
     "output_type": "stream",
     "name": "stdout",
     "text": [
      "25\n",
      "25\n"
     ]
    }
   ],
   "metadata": {}
  },
  {
   "cell_type": "code",
   "execution_count": 70,
   "source": [
    "path = \"files/test_result.txt\"\n",
    "\n",
    "with open(path, \"r\") as test_results:\n",
    "    lines = [entry.strip(\" \\n\") for entry in test_results.readlines()]\n",
    "    lines.sort()\n",
    "    \n",
    "    print(lines)\n",
    "\n",
    "    names =[entry[:-3] for entry in lines]\n",
    "    grades = [int(entry[-2:]) for entry in lines]\n",
    "    studenter = list(zip(names, grades))\n",
    "    print(studenter)\n",
    "\n",
    "    for student in studenter:\n",
    "        if student[1] < 20:\n",
    "            student = student + ('F',)\n",
    "        elif 20 <= student[1] <30:\n",
    "            student = student + ('E',)\n",
    "        elif 30 <= student[1] <40:\n",
    "            student = student + ('D',)\n",
    "        elif 40 <= student[1] <50:\n",
    "            student = student + ('C',)\n",
    "        elif 50 <= student[1] <60:\n",
    "            student = student + ('B',)\n",
    "        else:\n",
    "            student = student + ('A',)\n",
    "    \n",
    "    print(studenter)\n"
   ],
   "outputs": [
    {
     "output_type": "stream",
     "name": "stdout",
     "text": [
      "['Adam Gustafsson 25', 'Björn Björnsson 39', 'Bose Bosseson 32', 'Ella Ester 41', 'Emil Johansson 23', 'Emma Boden 32', 'Erik Eriksson 31', 'Fredrika Ulven 10', 'Gore Bord 55', 'Hanna Karlsson 23', 'Håkan Håkanson 24', 'Ida Håkansson 23', 'Jakob Kallander 65', 'Johan Johansson 42', 'Jonas Jonasson 31', 'Karl Karlsson 32', 'Ove Karlsten 41', 'Sven Erik Karlsson 13', 'Sven Erik Lundin 39']\n",
      "[('Adam Gustafsson', 25), ('Björn Björnsson', 39), ('Bose Bosseson', 32), ('Ella Ester', 41), ('Emil Johansson', 23), ('Emma Boden', 32), ('Erik Eriksson', 31), ('Fredrika Ulven', 10), ('Gore Bord', 55), ('Hanna Karlsson', 23), ('Håkan Håkanson', 24), ('Ida Håkansson', 23), ('Jakob Kallander', 65), ('Johan Johansson', 42), ('Jonas Jonasson', 31), ('Karl Karlsson', 32), ('Ove Karlsten', 41), ('Sven Erik Karlsson', 13), ('Sven Erik Lundin', 39)]\n",
      "[('Adam Gustafsson', 25), ('Björn Björnsson', 39), ('Bose Bosseson', 32), ('Ella Ester', 41), ('Emil Johansson', 23), ('Emma Boden', 32), ('Erik Eriksson', 31), ('Fredrika Ulven', 10), ('Gore Bord', 55), ('Hanna Karlsson', 23), ('Håkan Håkanson', 24), ('Ida Håkansson', 23), ('Jakob Kallander', 65), ('Johan Johansson', 42), ('Jonas Jonasson', 31), ('Karl Karlsson', 32), ('Ove Karlsten', 41), ('Sven Erik Karlsson', 13), ('Sven Erik Lundin', 39)]\n"
     ]
    }
   ],
   "metadata": {}
  }
 ],
 "metadata": {
  "orig_nbformat": 4,
  "language_info": {
   "name": "python",
   "version": "3.9.7",
   "mimetype": "text/x-python",
   "codemirror_mode": {
    "name": "ipython",
    "version": 3
   },
   "pygments_lexer": "ipython3",
   "nbconvert_exporter": "python",
   "file_extension": ".py"
  },
  "kernelspec": {
   "name": "python3",
   "display_name": "Python 3.9.7 64-bit ('python-programmering-LEO-LASSARADE-ufRNraRM': pipenv)"
  },
  "interpreter": {
   "hash": "15238536dd3fd07007fde1b5ca5ad686ed2b4bc9b7a767e1946823b6381f1841"
  }
 },
 "nbformat": 4,
 "nbformat_minor": 2
}
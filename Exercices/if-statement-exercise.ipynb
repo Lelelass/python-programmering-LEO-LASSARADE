{
 "cells": [
  {
   "cell_type": "markdown",
   "source": [
    "# if statements exercices\n",
    "## 1. Check sign"
   ],
   "metadata": {}
  },
  {
   "cell_type": "code",
   "execution_count": null,
   "source": [
    "number = float(input(\"Please write a number\"))\n",
    "\n",
    "if number > 0:\n",
    "    print(\"Number is positive\")\n",
    "elif number == 0:\n",
    "    print(\"number is zero\")\n",
    "else:\n",
    "    print(\"number is negative\")"
   ],
   "outputs": [],
   "metadata": {}
  },
  {
   "cell_type": "markdown",
   "source": [
    "## 2. Smallest"
   ],
   "metadata": {}
  },
  {
   "cell_type": "code",
   "execution_count": null,
   "source": [
    "input_1 = float(input(\"Please write a number\"))\n",
    "input_2 = float(input(\"Please write a second number\"))\n",
    "\n",
    "if input_1 < input_2:\n",
    "    print(f\"first input ({input_1}) was smaller\")\n",
    "else: \n",
    "    print(f\"second input ({input_2}) was smaller\")"
   ],
   "outputs": [],
   "metadata": {}
  },
  {
   "cell_type": "markdown",
   "source": [
    "## 3. Right angle"
   ],
   "metadata": {}
  },
  {
   "cell_type": "code",
   "execution_count": null,
   "source": [
    "angle_1 = float(input(\"Please write a first angle\"))\n",
    "angle_2 = float(input(\"Please write a second angle\"))\n",
    "angle_3 = float(input(\"Please write a third angle\"))\n",
    "\n",
    "if angle_1 == 90 or angle_2 == 90 or angle_3 == 90:\n",
    "    print(\"You triangle includes a right angle\")\n",
    "    if angle_1 > 180 or angle_2 > 180 or angle_3 > 180 or angle_1 + angle_2 + angle_3 != 180:\n",
    "        print(\"your angles don't add up to 180°, or an angle is invalid please input valid angles for your triangle\")\n",
    "    else:\n",
    "        print(\"Thank you for your input, what a nice triangle\")\n"
   ],
   "outputs": [],
   "metadata": {}
  },
  {
   "cell_type": "markdown",
   "source": [
    "## 4. Medicine"
   ],
   "metadata": {}
  },
  {
   "cell_type": "code",
   "execution_count": null,
   "source": [
    "age = float(input(\"Please enter your age\"))\n",
    "weight = float(input(\"Please enter you weight\"))\n",
    "\n",
    "if age <= 12 and weight <= 25:\n",
    "        print(\"Recommended dose : 1/2 pill\")\n",
    "elif age <= 12 and 25 < weight <= 40:\n",
    "        print(\"Recommended dose : between 1/2 and 1 pill\")\n",
    "elif age <= 12 and weight > 40:\n",
    "        print(\"Please contact your doctor\")\n",
    "elif age > 12 and weight > 40:\n",
    "        print(\"Recommended dose: 1 to 2 pills\")\n",
    "else:\n",
    "        print(\"Please contact your doctor\")"
   ],
   "outputs": [],
   "metadata": {}
  },
  {
   "cell_type": "markdown",
   "source": [
    "## 5. Divisible"
   ],
   "metadata": {}
  },
  {
   "cell_type": "code",
   "execution_count": null,
   "source": [
    "number = float(input(\"Please enter a number\"))\n",
    "\n",
    "if number % 2 == 0:\n",
    "    print(\"Number is even\")\n",
    "    if number % 5 == 0:\n",
    "        print(\"Number is divisible by 5\")\n",
    "elif number % 2 != 0 and number % 5 == 0:\n",
    "    print(\"Number is odd and divisible by 5\")\n",
    "else:\n",
    "    print(\"Number is odd\")"
   ],
   "outputs": [],
   "metadata": {}
  },
  {
   "cell_type": "markdown",
   "source": [
    "## 6. Luggage size"
   ],
   "metadata": {}
  },
  {
   "cell_type": "code",
   "execution_count": null,
   "source": [
    "weight = float(input(\"Please give the luggage's height\"))\n",
    "lenght = float(input(\"Please give the luggage's height\"))\n",
    "width = float(input(\"Please give the luggage's height\"))\n",
    "height = float(input(\"Please give the luggage's height\"))\n",
    "\n",
    "if weight <= 8:\n",
    "    if lenght > 55 or height > 40 or height >23:\n",
    "        print(\"Luggage is oversized\") \n",
    "    else:\n",
    "        print(\"Welcome on board\")\n",
    "else:\n",
    "    print(\"Luggage is too heavy\")"
   ],
   "outputs": [],
   "metadata": {}
  }
 ],
 "metadata": {
  "orig_nbformat": 4,
  "language_info": {
   "name": "python",
   "version": "3.9.6",
   "mimetype": "text/x-python",
   "codemirror_mode": {
    "name": "ipython",
    "version": 3
   },
   "pygments_lexer": "ipython3",
   "nbconvert_exporter": "python",
   "file_extension": ".py"
  },
  "kernelspec": {
   "name": "python3",
   "display_name": "Python 3.9.6 64-bit"
  },
  "interpreter": {
   "hash": "aee8b7b246df8f9039afb4144a1f6fd8d2ca17a180786b69acc140d282b71a49"
  }
 },
 "nbformat": 4,
 "nbformat_minor": 2
}
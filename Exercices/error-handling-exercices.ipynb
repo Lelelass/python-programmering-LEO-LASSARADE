{
 "cells": [
  {
   "cell_type": "markdown",
   "source": [
    "# 5. Error handling"
   ],
   "metadata": {}
  },
  {
   "cell_type": "code",
   "execution_count": 34,
   "source": [
    "import re\n",
    "\n",
    "def is_fourdigit(number):\n",
    "    if bool(re.match('^-?\\d{4}$', str(number))) == True:\n",
    "        return True\n",
    "    else :\n",
    "        return False\n",
    "\n",
    "# test program\n",
    "test_numbers = [231, 3124, -4124, -1000,-999, 1001, 10000, -10000, 999]\n",
    "\n",
    "for number in test_numbers:\n",
    "    if is_fourdigit(number):\n",
    "        print(f\"{number} is four-digit\")\n",
    "    else:\n",
    "        print(f\"{number} is not four-digit\")"
   ],
   "outputs": [
    {
     "output_type": "stream",
     "name": "stdout",
     "text": [
      "231 is not four-digit\n",
      "3124 is four-digit\n",
      "-4124 is four-digit\n",
      "-1000 is four-digit\n",
      "-999 is not four-digit\n",
      "1001 is four-digit\n",
      "10000 is not four-digit\n",
      "-10000 is not four-digit\n",
      "999 is not four-digit\n"
     ]
    }
   ],
   "metadata": {}
  },
  {
   "cell_type": "markdown",
   "source": [
    "## 3. Tram"
   ],
   "metadata": {}
  },
  {
   "cell_type": "code",
   "execution_count": 22,
   "source": [
    "import re\n",
    "\n",
    "while True:\n",
    "    A = [\"Göteborg\", \"Öckerö\", \"Partille\", \"Molndal\"]\n",
    "    B = [\"Tjörn\",\"Kungälv\",\"Stenungsund\",\"Kungsbacka\",\"Lilla Edet\",\"Ale\",\"Alingsås\", \"Lerum\", \"Härryda\"]\n",
    "    C = [\"Bengtsfors\", \"Bollebygd\", \"Borås\", \"Dals Ed\", \"Essunga\", \"Falköping\", \"Färgelanda\", \"Grästorp\", \"Gullspång\", \"Götene\", \"Herrljunga\", \"Hjo\", \"Karlsborg\", \"Lidköping\", \"Lysekil\", \"Mariestad\", \"Mark\", \"Mellerud\", \"Munkedal\", \"Orust\", \"Skara\", \"Skövde\", \"Sotenäs\", \"Strömstad\", \"Svenljunga\", \"Tanum\", \"Tibro\", \"Tidaholm\", \"Tranemo\", \"Trollhättan\", \"Töreboda\", \"Uddevalla\", \"Ulricehamn\", \"Vara\", \"Vänersborg\", \"Vårgårda\", \"Åmål\"]\n",
    "    zones = [A, B, C]\n",
    "    zone = input(\"I vilken zon bor du? type zones for complete zone list \")\n",
    "    \n",
    "\n",
    "    try:\n",
    "        if zone == \"zones\":\n",
    "            print(f\"Zone A :{zones[0]}\\n Zone B :{zones[1]}\\n Zone C :{zones[2]}\")\n",
    "            continue\n",
    "        if not bool(re.match('[A-C]', zone, re.IGNORECASE)) == True:# Regex för att endast tillåta kombination av ABCabc\n",
    "            raise ValueError(f\"zone {zone} is not a valid zone, please input A, B, C or multizone AB, ABC\")\n",
    "        print(f\"You live in zone {zone.upper()}\") #Text blir uppercase ifall user input var lowercase\n",
    "        zone = zone.upper() # So it can be used further in the program\n",
    "        break\n",
    "    except ValueError as err:\n",
    "        print(err)\n",
    "    except TypeError as err:\n",
    "        print(err)\n",
    "\n",
    "\n",
    "\n",
    "while True:\n",
    "    frekvens = input(\"Hur ofta reser du ?\")\n",
    "\n",
    "    try:\n",
    "        frekvens = float(frekvens)\n",
    "        if not 0 <= frekvens <= 200:\n",
    "            raise ValueError(f\"{frekvens} resor pa en manad, verkligen ?\")\n",
    "        if zone == \"A\":\n",
    "            pris = 34 * frekvens\n",
    "            if pris > 795:\n",
    "                print(\"Du borde välja ett månadaskort\")\n",
    "            else:\n",
    "                print(\"Fortsätt med dagsbiljetter\") \n",
    "        elif zone == \"B\":\n",
    "            pris = 68 * frekvens\n",
    "            if pris > 1195:\n",
    "                print(\"Du borde välja ett månadaskort\")\n",
    "            else:\n",
    "                print(\"Fortsätt med dagsbiljetter\") \n",
    "        elif zone == \"C\":\n",
    "            pris = 102 * frekvens\n",
    "            if pris > 1825:\n",
    "                print(\"Du borde välja ett månadaskort\")\n",
    "            else:\n",
    "                print(\"Fortsätt med dagsbiljetter\") \n",
    "        break\n",
    "    except ValueError as err:\n",
    "        print(err)\n",
    "    except TypeError as err:\n",
    "        print(err)\n",
    "\n",
    "print(f\"Du reser {frekvens} gånger per vecka\")\n"
   ],
   "outputs": [
    {
     "output_type": "stream",
     "name": "stdout",
     "text": [
      "You live in zone A\n",
      "Fortsätt med dagsbiljetter\n",
      "Du reser 6.0 gånger per vecka\n"
     ]
    }
   ],
   "metadata": {}
  }
 ],
 "metadata": {
  "orig_nbformat": 4,
  "language_info": {
   "name": "python",
   "version": "3.9.7",
   "mimetype": "text/x-python",
   "codemirror_mode": {
    "name": "ipython",
    "version": 3
   },
   "pygments_lexer": "ipython3",
   "nbconvert_exporter": "python",
   "file_extension": ".py"
  },
  "kernelspec": {
   "name": "python3",
   "display_name": "Python 3.9.7 64-bit ('python-programmering-LEO-LASSARADE-ufRNraRM': pipenv)"
  },
  "interpreter": {
   "hash": "15238536dd3fd07007fde1b5ca5ad686ed2b4bc9b7a767e1946823b6381f1841"
  }
 },
 "nbformat": 4,
 "nbformat_minor": 2
}